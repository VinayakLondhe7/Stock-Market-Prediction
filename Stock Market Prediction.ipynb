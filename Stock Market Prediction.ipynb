{
 "cells": [
  {
   "cell_type": "code",
   "execution_count": 1,
   "id": "34c36477",
   "metadata": {},
   "outputs": [],
   "source": [
    "#Importing the Libraries\n",
    "import pandas as pd\n",
    "import numpy as np\n",
    "%matplotlib inline\n",
    "import matplotlib. pyplot as plt\n",
    "import matplotlib\n",
    "from sklearn.preprocessing import MinMaxScaler\n",
    "from keras. layers import LSTM, Dense, Dropout\n",
    "from sklearn.model_selection import TimeSeriesSplit\n",
    "from sklearn.metrics import mean_squared_error, r2_score\n",
    "import matplotlib. dates as mandates\n",
    "from sklearn.preprocessing import MinMaxScaler\n",
    "from sklearn import linear_model\n",
    "from keras.models import Sequential\n",
    "from keras.layers import Dense\n",
    "import keras.backend as K\n",
    "from keras.callbacks import EarlyStopping\n",
    "from keras.optimizers import Adam\n",
    "from keras.models import load_model\n",
    "from keras.layers import LSTM\n",
    "from keras.utils import plot_model\n",
    "import warnings\n",
    "warnings.filterwarnings('ignore')\n",
    "from tensorflow.keras.utils import plot_model"
   ]
  },
  {
   "cell_type": "code",
   "execution_count": 2,
   "id": "4e28e587",
   "metadata": {},
   "outputs": [
    {
     "data": {
      "text/html": [
       "<div>\n",
       "<style scoped>\n",
       "    .dataframe tbody tr th:only-of-type {\n",
       "        vertical-align: middle;\n",
       "    }\n",
       "\n",
       "    .dataframe tbody tr th {\n",
       "        vertical-align: top;\n",
       "    }\n",
       "\n",
       "    .dataframe thead th {\n",
       "        text-align: right;\n",
       "    }\n",
       "</style>\n",
       "<table border=\"1\" class=\"dataframe\">\n",
       "  <thead>\n",
       "    <tr style=\"text-align: right;\">\n",
       "      <th></th>\n",
       "      <th>Open</th>\n",
       "      <th>High</th>\n",
       "      <th>Low</th>\n",
       "      <th>Close</th>\n",
       "      <th>Adj Close</th>\n",
       "      <th>Volume</th>\n",
       "    </tr>\n",
       "    <tr>\n",
       "      <th>Date</th>\n",
       "      <th></th>\n",
       "      <th></th>\n",
       "      <th></th>\n",
       "      <th></th>\n",
       "      <th></th>\n",
       "      <th></th>\n",
       "    </tr>\n",
       "  </thead>\n",
       "  <tbody>\n",
       "    <tr>\n",
       "      <th>2012-10-17</th>\n",
       "      <td>29.299999</td>\n",
       "      <td>29.639999</td>\n",
       "      <td>29.09</td>\n",
       "      <td>29.590000</td>\n",
       "      <td>24.036226</td>\n",
       "      <td>44206100</td>\n",
       "    </tr>\n",
       "    <tr>\n",
       "      <th>2012-10-18</th>\n",
       "      <td>29.650000</td>\n",
       "      <td>29.730000</td>\n",
       "      <td>29.26</td>\n",
       "      <td>29.500000</td>\n",
       "      <td>23.963112</td>\n",
       "      <td>59238500</td>\n",
       "    </tr>\n",
       "    <tr>\n",
       "      <th>2012-10-19</th>\n",
       "      <td>29.049999</td>\n",
       "      <td>29.080000</td>\n",
       "      <td>28.50</td>\n",
       "      <td>28.639999</td>\n",
       "      <td>23.264530</td>\n",
       "      <td>90470800</td>\n",
       "    </tr>\n",
       "    <tr>\n",
       "      <th>2012-10-22</th>\n",
       "      <td>28.730000</td>\n",
       "      <td>28.830000</td>\n",
       "      <td>27.83</td>\n",
       "      <td>28.000000</td>\n",
       "      <td>22.744658</td>\n",
       "      <td>83374000</td>\n",
       "    </tr>\n",
       "    <tr>\n",
       "      <th>2012-10-23</th>\n",
       "      <td>27.770000</td>\n",
       "      <td>28.200001</td>\n",
       "      <td>27.76</td>\n",
       "      <td>28.049999</td>\n",
       "      <td>22.785267</td>\n",
       "      <td>64414800</td>\n",
       "    </tr>\n",
       "  </tbody>\n",
       "</table>\n",
       "</div>"
      ],
      "text/plain": [
       "                 Open       High    Low      Close  Adj Close    Volume\n",
       "Date                                                                   \n",
       "2012-10-17  29.299999  29.639999  29.09  29.590000  24.036226  44206100\n",
       "2012-10-18  29.650000  29.730000  29.26  29.500000  23.963112  59238500\n",
       "2012-10-19  29.049999  29.080000  28.50  28.639999  23.264530  90470800\n",
       "2012-10-22  28.730000  28.830000  27.83  28.000000  22.744658  83374000\n",
       "2012-10-23  27.770000  28.200001  27.76  28.049999  22.785267  64414800"
      ]
     },
     "execution_count": 2,
     "metadata": {},
     "output_type": "execute_result"
    }
   ],
   "source": [
    "#Get the Dataset\n",
    "df=pd.read_csv(r'C:\\Users\\PC DOCTOR\\Desktop\\Project 1\\MSFT.csv',na_values=['null'],index_col='Date',parse_dates=True,infer_datetime_format=True)\n",
    "df.head()"
   ]
  },
  {
   "cell_type": "code",
   "execution_count": 3,
   "id": "8ca06ddb",
   "metadata": {},
   "outputs": [
    {
     "name": "stdout",
     "output_type": "stream",
     "text": [
      "Dataframe Shape:  (2766, 6)\n",
      "Null Value Present:  False\n"
     ]
    }
   ],
   "source": [
    "#Print the shape of Dataframe  and Check for Null Values\n",
    "print('Dataframe Shape: ', df. shape)\n",
    "print('Null Value Present: ', df.isnull().values.any())"
   ]
  },
  {
   "cell_type": "code",
   "execution_count": 4,
   "id": "94a4b97b",
   "metadata": {},
   "outputs": [
    {
     "data": {
      "text/plain": [
       "<Axes: xlabel='Date'>"
      ]
     },
     "execution_count": 4,
     "metadata": {},
     "output_type": "execute_result"
    },
    {
     "data": {
      "image/png": "[encoded data removed]",
      "text/plain": [
       "<Figure size 640x480 with 1 Axes>"
      ]
     },
     "metadata": {},
     "output_type": "display_data"
    }
   ],
   "source": [
    "#Plot the True Adj Close Value\n",
    "df['Adj Close'].plot()"
   ]
  },
  {
   "cell_type": "code",
   "execution_count": 5,
   "id": "6428433a",
   "metadata": {},
   "outputs": [],
   "source": [
    "#Set Target Variable\n",
    "output_var = pd.DataFrame(df['Adj Close'])\n",
    "#Selecting the Features\n",
    "features = ['Open', 'High', 'Low', 'Volume']"
   ]
  },
  {
   "cell_type": "code",
   "execution_count": 6,
   "id": "8ffcc071",
   "metadata": {},
   "outputs": [
    {
     "data": {
      "text/html": [
       "<div>\n",
       "<style scoped>\n",
       "    .dataframe tbody tr th:only-of-type {\n",
       "        vertical-align: middle;\n",
       "    }\n",
       "\n",
       "    .dataframe tbody tr th {\n",
       "        vertical-align: top;\n",
       "    }\n",
       "\n",
       "    .dataframe thead th {\n",
       "        text-align: right;\n",
       "    }\n",
       "</style>\n",
       "<table border=\"1\" class=\"dataframe\">\n",
       "  <thead>\n",
       "    <tr style=\"text-align: right;\">\n",
       "      <th></th>\n",
       "      <th>Open</th>\n",
       "      <th>High</th>\n",
       "      <th>Low</th>\n",
       "      <th>Volume</th>\n",
       "    </tr>\n",
       "    <tr>\n",
       "      <th>Date</th>\n",
       "      <th></th>\n",
       "      <th></th>\n",
       "      <th></th>\n",
       "      <th></th>\n",
       "    </tr>\n",
       "  </thead>\n",
       "  <tbody>\n",
       "    <tr>\n",
       "      <th>2012-10-17</th>\n",
       "      <td>0.008707</td>\n",
       "      <td>0.008849</td>\n",
       "      <td>0.008676</td>\n",
       "      <td>0.152614</td>\n",
       "    </tr>\n",
       "    <tr>\n",
       "      <th>2012-10-18</th>\n",
       "      <td>0.009750</td>\n",
       "      <td>0.009114</td>\n",
       "      <td>0.009197</td>\n",
       "      <td>0.214989</td>\n",
       "    </tr>\n",
       "    <tr>\n",
       "      <th>2012-10-19</th>\n",
       "      <td>0.007961</td>\n",
       "      <td>0.007203</td>\n",
       "      <td>0.006867</td>\n",
       "      <td>0.344582</td>\n",
       "    </tr>\n",
       "    <tr>\n",
       "      <th>2012-10-22</th>\n",
       "      <td>0.007007</td>\n",
       "      <td>0.006468</td>\n",
       "      <td>0.004813</td>\n",
       "      <td>0.315135</td>\n",
       "    </tr>\n",
       "    <tr>\n",
       "      <th>2012-10-23</th>\n",
       "      <td>0.004145</td>\n",
       "      <td>0.004616</td>\n",
       "      <td>0.004599</td>\n",
       "      <td>0.236467</td>\n",
       "    </tr>\n",
       "  </tbody>\n",
       "</table>\n",
       "</div>"
      ],
      "text/plain": [
       "                Open      High       Low    Volume\n",
       "Date                                              \n",
       "2012-10-17  0.008707  0.008849  0.008676  0.152614\n",
       "2012-10-18  0.009750  0.009114  0.009197  0.214989\n",
       "2012-10-19  0.007961  0.007203  0.006867  0.344582\n",
       "2012-10-22  0.007007  0.006468  0.004813  0.315135\n",
       "2012-10-23  0.004145  0.004616  0.004599  0.236467"
      ]
     },
     "execution_count": 6,
     "metadata": {},
     "output_type": "execute_result"
    }
   ],
   "source": [
    "#Scaling\n",
    "scaler = MinMaxScaler()\n",
    "feature_transform = scaler.fit_transform(df[features])\n",
    "feature_transform= pd.DataFrame(columns=features, data=feature_transform, index=df.index)\n",
    "feature_transform.head()"
   ]
  },
  {
   "cell_type": "code",
   "execution_count": 7,
   "id": "023d0584",
   "metadata": {},
   "outputs": [],
   "source": [
    "#Splitting to Training set and Test set\n",
    "timesplit= TimeSeriesSplit(n_splits=10)\n",
    "for train_index, test_index in timesplit.split(feature_transform):\n",
    "        X_train, X_test = feature_transform[:len(train_index)], feature_transform[len(train_index): (len(train_index)+len(test_index))]\n",
    "        y_train, y_test = output_var[:len(train_index)].values.ravel(), output_var[len(train_index): (len(train_index)+len(test_index))].values.ravel()"
   ]
  },
  {
   "cell_type": "code",
   "execution_count": 8,
   "id": "a5a184fb",
   "metadata": {},
   "outputs": [],
   "source": [
    "#Process the data for LSTM\n",
    "trainX =np.array(X_train)\n",
    "testX =np.array(X_test)\n",
    "X_train = trainX.reshape(X_train.shape[0], 1, X_train.shape[1])\n",
    "X_test = testX.reshape(X_test.shape[0], 1, X_test.shape[1])"
   ]
  },
  {
   "cell_type": "code",
   "execution_count": 9,
   "id": "d211bc08",
   "metadata": {},
   "outputs": [
    {
     "data": {
      "image/png": "[encoded data removed]",
      "text/plain": [
       "<IPython.core.display.Image object>"
      ]
     },
     "execution_count": 9,
     "metadata": {},
     "output_type": "execute_result"
    }
   ],
   "source": [
    "#Building the LSTM Model\n",
    "lstm = Sequential()\n",
    "lstm.add(LSTM(32, input_shape=(1, trainX.shape[1]), activation='relu', return_sequences=False))\n",
    "lstm.add(Dense(1))\n",
    "lstm.compile(loss='mean_squared_error', optimizer='adam')\n",
    "plot_model(lstm, show_shapes=True, show_layer_names=True)"
   ]
  },
  {
   "cell_type": "code",
   "execution_count": 10,
   "id": "d9bc26f4",
   "metadata": {},
   "outputs": [
    {
     "name": "stdout",
     "output_type": "stream",
     "text": [
      "Epoch 1/100\n",
      "315/315 [==============================] - 4s 3ms/step - loss: 18803.1211\n",
      "Epoch 2/100\n",
      "315/315 [==============================] - 1s 3ms/step - loss: 16407.7578\n",
      "Epoch 3/100\n",
      "315/315 [==============================] - 1s 3ms/step - loss: 13544.1777\n",
      "Epoch 4/100\n",
      "315/315 [==============================] - 1s 3ms/step - loss: 10476.9873\n",
      "Epoch 5/100\n",
      "315/315 [==============================] - 1s 4ms/step - loss: 7622.1255\n",
      "Epoch 6/100\n",
      "315/315 [==============================] - 1s 4ms/step - loss: 5273.1514\n",
      "Epoch 7/100\n",
      "315/315 [==============================] - 1s 4ms/step - loss: 3548.1323\n",
      "Epoch 8/100\n",
      "315/315 [==============================] - 2s 5ms/step - loss: 2407.4534\n",
      "Epoch 9/100\n",
      "315/315 [==============================] - 2s 5ms/step - loss: 1701.0750\n",
      "Epoch 10/100\n",
      "315/315 [==============================] - 1s 4ms/step - loss: 1246.4290\n",
      "Epoch 11/100\n",
      "315/315 [==============================] - 1s 4ms/step - loss: 905.6450\n",
      "Epoch 12/100\n",
      "315/315 [==============================] - 1s 4ms/step - loss: 621.7547\n",
      "Epoch 13/100\n",
      "315/315 [==============================] - 1s 4ms/step - loss: 390.0045\n",
      "Epoch 14/100\n",
      "315/315 [==============================] - 1s 4ms/step - loss: 220.6673\n",
      "Epoch 15/100\n",
      "315/315 [==============================] - 1s 4ms/step - loss: 113.5684\n",
      "Epoch 16/100\n",
      "315/315 [==============================] - 1s 4ms/step - loss: 55.9850\n",
      "Epoch 17/100\n",
      "315/315 [==============================] - 1s 4ms/step - loss: 29.7721\n",
      "Epoch 18/100\n",
      "315/315 [==============================] - 1s 3ms/step - loss: 19.4492\n",
      "Epoch 19/100\n",
      "315/315 [==============================] - 1s 3ms/step - loss: 15.5748\n",
      "Epoch 20/100\n",
      "315/315 [==============================] - 1s 4ms/step - loss: 13.7540\n",
      "Epoch 21/100\n",
      "315/315 [==============================] - 1s 3ms/step - loss: 12.3595\n",
      "Epoch 22/100\n",
      "315/315 [==============================] - 1s 4ms/step - loss: 11.0752\n",
      "Epoch 23/100\n",
      "315/315 [==============================] - 1s 4ms/step - loss: 9.8471\n",
      "Epoch 24/100\n",
      "315/315 [==============================] - 1s 4ms/step - loss: 8.7279\n",
      "Epoch 25/100\n",
      "315/315 [==============================] - 1s 3ms/step - loss: 7.7535\n",
      "Epoch 26/100\n",
      "315/315 [==============================] - 1s 3ms/step - loss: 6.9262\n",
      "Epoch 27/100\n",
      "315/315 [==============================] - 1s 3ms/step - loss: 6.2458\n",
      "Epoch 28/100\n",
      "315/315 [==============================] - 1s 3ms/step - loss: 5.7086\n",
      "Epoch 29/100\n",
      "315/315 [==============================] - 1s 4ms/step - loss: 5.3008\n",
      "Epoch 30/100\n",
      "315/315 [==============================] - 1s 4ms/step - loss: 5.0012\n",
      "Epoch 31/100\n",
      "315/315 [==============================] - 1s 4ms/step - loss: 4.7895\n",
      "Epoch 32/100\n",
      "315/315 [==============================] - 1s 4ms/step - loss: 4.6427\n",
      "Epoch 33/100\n",
      "315/315 [==============================] - 1s 4ms/step - loss: 4.5397\n",
      "Epoch 34/100\n",
      "315/315 [==============================] - 1s 4ms/step - loss: 4.4621\n",
      "Epoch 35/100\n",
      "315/315 [==============================] - 1s 4ms/step - loss: 4.3965\n",
      "Epoch 36/100\n",
      "315/315 [==============================] - 1s 4ms/step - loss: 4.3344\n",
      "Epoch 37/100\n",
      "315/315 [==============================] - 1s 4ms/step - loss: 4.2712\n",
      "Epoch 38/100\n",
      "315/315 [==============================] - 1s 3ms/step - loss: 4.2065\n",
      "Epoch 39/100\n",
      "315/315 [==============================] - 1s 3ms/step - loss: 4.1423\n",
      "Epoch 40/100\n",
      "315/315 [==============================] - 1s 3ms/step - loss: 4.0803\n",
      "Epoch 41/100\n",
      "315/315 [==============================] - 1s 3ms/step - loss: 4.0220\n",
      "Epoch 42/100\n",
      "315/315 [==============================] - 1s 3ms/step - loss: 3.9693\n",
      "Epoch 43/100\n",
      "315/315 [==============================] - 1s 3ms/step - loss: 3.9229\n",
      "Epoch 44/100\n",
      "315/315 [==============================] - 1s 3ms/step - loss: 3.8830\n",
      "Epoch 45/100\n",
      "315/315 [==============================] - 1s 3ms/step - loss: 3.8494\n",
      "Epoch 46/100\n",
      "315/315 [==============================] - 1s 3ms/step - loss: 3.8217\n",
      "Epoch 47/100\n",
      "315/315 [==============================] - 1s 3ms/step - loss: 3.7994\n",
      "Epoch 48/100\n",
      "315/315 [==============================] - 1s 3ms/step - loss: 3.7814\n",
      "Epoch 49/100\n",
      "315/315 [==============================] - 1s 3ms/step - loss: 3.7668\n",
      "Epoch 50/100\n",
      "315/315 [==============================] - 1s 3ms/step - loss: 3.7552\n",
      "Epoch 51/100\n",
      "315/315 [==============================] - 1s 3ms/step - loss: 3.7457\n",
      "Epoch 52/100\n",
      "315/315 [==============================] - 1s 3ms/step - loss: 3.7380\n",
      "Epoch 53/100\n",
      "315/315 [==============================] - 1s 3ms/step - loss: 3.7315\n",
      "Epoch 54/100\n",
      "315/315 [==============================] - 1s 3ms/step - loss: 3.7258\n",
      "Epoch 55/100\n",
      "315/315 [==============================] - 1s 3ms/step - loss: 3.7206\n",
      "Epoch 56/100\n",
      "315/315 [==============================] - 1s 3ms/step - loss: 3.7157\n",
      "Epoch 57/100\n",
      "315/315 [==============================] - 1s 3ms/step - loss: 3.7109\n",
      "Epoch 58/100\n",
      "315/315 [==============================] - 1s 3ms/step - loss: 3.7060\n",
      "Epoch 59/100\n",
      "315/315 [==============================] - 1s 3ms/step - loss: 3.7009\n",
      "Epoch 60/100\n",
      "315/315 [==============================] - 1s 3ms/step - loss: 3.6955\n",
      "Epoch 61/100\n",
      "315/315 [==============================] - 1s 3ms/step - loss: 3.6899\n",
      "Epoch 62/100\n",
      "315/315 [==============================] - 1s 3ms/step - loss: 3.6839\n",
      "Epoch 63/100\n",
      "315/315 [==============================] - 1s 3ms/step - loss: 3.6775\n",
      "Epoch 64/100\n",
      "315/315 [==============================] - 1s 3ms/step - loss: 3.6709\n",
      "Epoch 65/100\n",
      "315/315 [==============================] - 1s 3ms/step - loss: 3.6637\n",
      "Epoch 66/100\n",
      "315/315 [==============================] - 1s 3ms/step - loss: 3.6562\n",
      "Epoch 67/100\n",
      "315/315 [==============================] - 1s 3ms/step - loss: 3.6484\n",
      "Epoch 68/100\n",
      "315/315 [==============================] - 1s 4ms/step - loss: 3.6403\n",
      "Epoch 69/100\n",
      "315/315 [==============================] - 1s 3ms/step - loss: 3.6322\n",
      "Epoch 70/100\n",
      "315/315 [==============================] - 1s 3ms/step - loss: 3.6234\n",
      "Epoch 71/100\n",
      "315/315 [==============================] - 1s 3ms/step - loss: 3.6145\n",
      "Epoch 72/100\n",
      "315/315 [==============================] - 1s 3ms/step - loss: 3.6054\n",
      "Epoch 73/100\n",
      "315/315 [==============================] - 1s 3ms/step - loss: 3.5960\n",
      "Epoch 74/100\n",
      "315/315 [==============================] - 1s 3ms/step - loss: 3.5864\n",
      "Epoch 75/100\n",
      "315/315 [==============================] - 1s 3ms/step - loss: 3.5770\n",
      "Epoch 76/100\n",
      "315/315 [==============================] - 1s 3ms/step - loss: 3.5673\n",
      "Epoch 77/100\n",
      "315/315 [==============================] - 1s 3ms/step - loss: 3.5574\n",
      "Epoch 78/100\n",
      "315/315 [==============================] - 1s 3ms/step - loss: 3.5474\n",
      "Epoch 79/100\n",
      "315/315 [==============================] - 1s 3ms/step - loss: 3.5373\n",
      "Epoch 80/100\n",
      "315/315 [==============================] - 1s 3ms/step - loss: 3.5271\n",
      "Epoch 81/100\n",
      "315/315 [==============================] - 1s 3ms/step - loss: 3.5171\n",
      "Epoch 82/100\n",
      "315/315 [==============================] - 1s 3ms/step - loss: 3.5067\n",
      "Epoch 83/100\n",
      "315/315 [==============================] - 1s 4ms/step - loss: 3.4967\n",
      "Epoch 84/100\n",
      "315/315 [==============================] - 1s 3ms/step - loss: 3.4864\n",
      "Epoch 85/100\n",
      "315/315 [==============================] - 1s 3ms/step - loss: 3.4761\n",
      "Epoch 86/100\n",
      "315/315 [==============================] - 1s 4ms/step - loss: 3.4660\n",
      "Epoch 87/100\n",
      "315/315 [==============================] - 1s 4ms/step - loss: 3.4559\n",
      "Epoch 88/100\n",
      "315/315 [==============================] - 1s 4ms/step - loss: 3.4456\n",
      "Epoch 89/100\n",
      "315/315 [==============================] - 1s 4ms/step - loss: 3.4354\n",
      "Epoch 90/100\n",
      "315/315 [==============================] - 1s 3ms/step - loss: 3.4252\n",
      "Epoch 91/100\n",
      "315/315 [==============================] - 1s 3ms/step - loss: 3.4153\n",
      "Epoch 92/100\n",
      "315/315 [==============================] - 1s 3ms/step - loss: 3.4051\n",
      "Epoch 93/100\n",
      "315/315 [==============================] - 1s 3ms/step - loss: 3.3953\n",
      "Epoch 94/100\n",
      "315/315 [==============================] - 1s 4ms/step - loss: 3.3853\n",
      "Epoch 95/100\n",
      "315/315 [==============================] - 1s 4ms/step - loss: 3.3754\n",
      "Epoch 96/100\n",
      "315/315 [==============================] - 1s 4ms/step - loss: 3.3656\n",
      "Epoch 97/100\n",
      "315/315 [==============================] - 1s 3ms/step - loss: 3.3557\n",
      "Epoch 98/100\n",
      "315/315 [==============================] - 1s 4ms/step - loss: 3.3462\n",
      "Epoch 99/100\n"
     ]
    },
    {
     "name": "stdout",
     "output_type": "stream",
     "text": [
      "315/315 [==============================] - 1s 4ms/step - loss: 3.3363\n",
      "Epoch 100/100\n",
      "315/315 [==============================] - 1s 4ms/step - loss: 3.3271\n"
     ]
    }
   ],
   "source": [
    "#Model Training\n",
    "history=lstm.fit(X_train, y_train, epochs=100, batch_size=8, verbose=1, shuffle=False)"
   ]
  },
  {
   "cell_type": "code",
   "execution_count": 11,
   "id": "5a305521",
   "metadata": {},
   "outputs": [
    {
     "name": "stdout",
     "output_type": "stream",
     "text": [
      "8/8 [==============================] - 0s 2ms/step\n"
     ]
    }
   ],
   "source": [
    "#LSTM Prediction\n",
    "y_pred= lstm.predict(X_test)"
   ]
  },
  {
   "cell_type": "code",
   "execution_count": 14,
   "id": "d216d43e",
   "metadata": {},
   "outputs": [
    {
     "data": {
      "image/png": "[encoded data removed]",
      "text/plain": [
       "<Figure size 640x480 with 1 Axes>"
      ]
     },
     "metadata": {},
     "output_type": "display_data"
    }
   ],
   "source": [
    "#Predicted vs True Adj Close Value – LSTM\n",
    "plt.plot(y_test, label='True Value')\n",
    "plt.plot(y_pred, label='LSTM Value')\n",
    "plt.title('Prediction by LSTM')\n",
    "plt.xlabel('Time Scale')\n",
    "plt.ylabel('Scaled USD')\n",
    "plt.legend()\n",
    "plt.show()"
   ]
  },
  {
   "cell_type": "code",
   "execution_count": null,
   "id": "8db89cf9",
   "metadata": {},
   "outputs": [],
   "source": []
  }
 ],
 "metadata": {
  "kernelspec": {
   "display_name": "Python 3 (ipykernel)",
   "language": "python",
   "name": "python3"
  },
  "language_info": {
   "codemirror_mode": {
    "name": "ipython",
    "version": 3
   },
   "file_extension": ".py",
   "mimetype": "text/x-python",
   "name": "python",
   "nbconvert_exporter": "python",
   "pygments_lexer": "ipython3",
   "version": "3.11.5"
  }
 },
 "nbformat": 4,
 "nbformat_minor": 5
}
